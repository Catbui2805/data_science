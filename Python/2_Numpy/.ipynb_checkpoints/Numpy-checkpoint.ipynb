{
 "cells": [
  {
   "cell_type": "markdown",
   "id": "14acf40b",
   "metadata": {},
   "source": [
    "# Numpy"
   ]
  },
  {
   "cell_type": "markdown",
   "id": "412587d1",
   "metadata": {},
   "source": [
    "#### Ref: https://numpy.org/doc/stable/user/quickstart.html"
   ]
  },
  {
   "cell_type": "code",
   "execution_count": 2,
   "id": "72e6219f",
   "metadata": {},
   "outputs": [],
   "source": [
    "import numpy as np"
   ]
  },
  {
   "cell_type": "markdown",
   "id": "114ffc55",
   "metadata": {},
   "source": [
    "### creating Numpy array form python lists"
   ]
  },
  {
   "cell_type": "code",
   "execution_count": 4,
   "id": "06738422",
   "metadata": {},
   "outputs": [
    {
     "data": {
      "text/plain": [
       "array([1, 2, 3, 4, 5])"
      ]
     },
     "execution_count": 4,
     "metadata": {},
     "output_type": "execute_result"
    }
   ],
   "source": [
    "np.array([1,2,3,4,5])"
   ]
  },
  {
   "cell_type": "code",
   "execution_count": 5,
   "id": "931b87b9",
   "metadata": {},
   "outputs": [
    {
     "data": {
      "text/plain": [
       "array([3.14, 2.  , 3.  , 4.  , 5.  ])"
      ]
     },
     "execution_count": 5,
     "metadata": {},
     "output_type": "execute_result"
    }
   ],
   "source": [
    "np.array([3.14, 2,3,4,5]) # np tu conveert ve sang dang thap nhat int -> float"
   ]
  },
  {
   "cell_type": "code",
   "execution_count": 6,
   "id": "36b390a0",
   "metadata": {},
   "outputs": [
    {
     "data": {
      "text/plain": [
       "array([1., 2., 3., 4.], dtype=float32)"
      ]
     },
     "execution_count": 6,
     "metadata": {},
     "output_type": "execute_result"
    }
   ],
   "source": [
    "# Su dung dtype de dinh dang kieu du lieu\n",
    "np.array([1,2,3,4], dtype='float32')"
   ]
  },
  {
   "cell_type": "code",
   "execution_count": 7,
   "id": "7a2f8680",
   "metadata": {},
   "outputs": [],
   "source": [
    "a1 = np.array([1,2,3,4])"
   ]
  },
  {
   "cell_type": "code",
   "execution_count": 8,
   "id": "5f1812f8",
   "metadata": {},
   "outputs": [
    {
     "data": {
      "text/plain": [
       "numpy.ndarray"
      ]
     },
     "execution_count": 8,
     "metadata": {},
     "output_type": "execute_result"
    }
   ],
   "source": [
    "type(a1)"
   ]
  },
  {
   "cell_type": "code",
   "execution_count": 9,
   "id": "6629ba3a",
   "metadata": {},
   "outputs": [
    {
     "data": {
      "text/plain": [
       "numpy.ndarray"
      ]
     },
     "execution_count": 9,
     "metadata": {},
     "output_type": "execute_result"
    }
   ],
   "source": [
    "a2 = np.array([[1,2,3],[4,5,6]])\n",
    "type(a2)"
   ]
  },
  {
   "cell_type": "code",
   "execution_count": 10,
   "id": "de814726",
   "metadata": {},
   "outputs": [
    {
     "data": {
      "text/plain": [
       "(2, 3)"
      ]
     },
     "execution_count": 10,
     "metadata": {},
     "output_type": "execute_result"
    }
   ],
   "source": [
    "a2.shape"
   ]
  },
  {
   "cell_type": "code",
   "execution_count": 13,
   "id": "fd3e2d6b",
   "metadata": {},
   "outputs": [
    {
     "data": {
      "text/plain": [
       "2"
      ]
     },
     "execution_count": 13,
     "metadata": {},
     "output_type": "execute_result"
    }
   ],
   "source": [
    "a2.ndim # so chieu cua mang"
   ]
  },
  {
   "cell_type": "code",
   "execution_count": 14,
   "id": "4d7520c4",
   "metadata": {},
   "outputs": [
    {
     "data": {
      "text/plain": [
       "1"
      ]
     },
     "execution_count": 14,
     "metadata": {},
     "output_type": "execute_result"
    }
   ],
   "source": [
    "a1.ndim"
   ]
  },
  {
   "cell_type": "code",
   "execution_count": 15,
   "id": "e00bd38b",
   "metadata": {},
   "outputs": [
    {
     "data": {
      "text/plain": [
       "dtype('int64')"
      ]
     },
     "execution_count": 15,
     "metadata": {},
     "output_type": "execute_result"
    }
   ],
   "source": [
    "a2.dtype"
   ]
  },
  {
   "cell_type": "code",
   "execution_count": 16,
   "id": "096bea28",
   "metadata": {},
   "outputs": [
    {
     "data": {
      "text/plain": [
       "6"
      ]
     },
     "execution_count": 16,
     "metadata": {},
     "output_type": "execute_result"
    }
   ],
   "source": [
    "a2.size # tong so element trong a2"
   ]
  },
  {
   "cell_type": "markdown",
   "id": "63718fc9",
   "metadata": {},
   "source": [
    "## Create Numpy Array form scratch\n",
    "#### Su dung san nhung ham co san trong numpy (build in)"
   ]
  },
  {
   "cell_type": "markdown",
   "id": "3b3b826d",
   "metadata": {},
   "source": [
    "### zeros, ones, full, arange, linspace"
   ]
  },
  {
   "cell_type": "markdown",
   "id": "43160aad",
   "metadata": {},
   "source": [
    "## zeros"
   ]
  },
  {
   "cell_type": "code",
   "execution_count": 28,
   "id": "4666991d",
   "metadata": {},
   "outputs": [
    {
     "data": {
      "text/plain": [
       "array([[0., 0.],\n",
       "       [0., 0.]])"
      ]
     },
     "execution_count": 28,
     "metadata": {},
     "output_type": "execute_result"
    }
   ],
   "source": [
    "np.zeros([2,4]) # truyen vao hinh dang 2 hang 4 cut note: shape = (2,4) or [2,4]"
   ]
  },
  {
   "cell_type": "code",
   "execution_count": 20,
   "id": "b60ee2a5",
   "metadata": {},
   "outputs": [
    {
     "data": {
      "text/plain": [
       "array([[0, 0, 0, 0],\n",
       "       [0, 0, 0, 0]])"
      ]
     },
     "execution_count": 20,
     "metadata": {},
     "output_type": "execute_result"
    }
   ],
   "source": [
    "np.zeros([2,4], dtype= int)  # set kieu du lieu cho bien"
   ]
  },
  {
   "cell_type": "markdown",
   "id": "e0537ee1",
   "metadata": {},
   "source": [
    "## ones"
   ]
  },
  {
   "cell_type": "code",
   "execution_count": 21,
   "id": "de7a1533",
   "metadata": {},
   "outputs": [
    {
     "data": {
      "text/plain": [
       "array([[1., 1., 1., 1., 1.],\n",
       "       [1., 1., 1., 1., 1.],\n",
       "       [1., 1., 1., 1., 1.]])"
      ]
     },
     "execution_count": 21,
     "metadata": {},
     "output_type": "execute_result"
    }
   ],
   "source": [
    "np.ones((3,5)) # truyen vao shape mong muon vd 3 hang 5 cot"
   ]
  },
  {
   "cell_type": "code",
   "execution_count": 23,
   "id": "bd54fce0",
   "metadata": {},
   "outputs": [
    {
     "data": {
      "text/plain": [
       "array([[1., 1., 1., 1., 1., 1.],\n",
       "       [1., 1., 1., 1., 1., 1.],\n",
       "       [1., 1., 1., 1., 1., 1.],\n",
       "       [1., 1., 1., 1., 1., 1.],\n",
       "       [1., 1., 1., 1., 1., 1.],\n",
       "       [1., 1., 1., 1., 1., 1.]])"
      ]
     },
     "execution_count": 23,
     "metadata": {},
     "output_type": "execute_result"
    }
   ],
   "source": [
    "np.ones((6,6), dtype=float)# truyen vao kieu du lieu mong muon"
   ]
  },
  {
   "cell_type": "markdown",
   "id": "9db158b8",
   "metadata": {},
   "source": [
    "## arange"
   ]
  },
  {
   "cell_type": "code",
   "execution_count": 26,
   "id": "41ab2366",
   "metadata": {},
   "outputs": [
    {
     "data": {
      "text/plain": [
       "array([ 4,  7, 10, 13, 16, 19])"
      ]
     },
     "execution_count": 26,
     "metadata": {},
     "output_type": "execute_result"
    }
   ],
   "source": [
    "np.arange(4,21, 3) # diem bat dau va diem ket thuc va khaong cach"
   ]
  },
  {
   "cell_type": "code",
   "execution_count": 27,
   "id": "b4139211",
   "metadata": {},
   "outputs": [
    {
     "data": {
      "text/plain": [
       "array([ 1.,  6., 11., 16.])"
      ]
     },
     "execution_count": 27,
     "metadata": {},
     "output_type": "execute_result"
    }
   ],
   "source": [
    "np.arange(1,20,5, dtype= float) # truyen vao kieu du lieu mong muon"
   ]
  },
  {
   "cell_type": "markdown",
   "id": "b7c59e48",
   "metadata": {},
   "source": [
    "## full"
   ]
  },
  {
   "cell_type": "code",
   "execution_count": 29,
   "id": "0824182b",
   "metadata": {},
   "outputs": [
    {
     "data": {
      "text/plain": [
       "array([[21., 21., 21., 21., 21.],\n",
       "       [21., 21., 21., 21., 21.],\n",
       "       [21., 21., 21., 21., 21.]])"
      ]
     },
     "execution_count": 29,
     "metadata": {},
     "output_type": "execute_result"
    }
   ],
   "source": [
    "np.full([3,5], 21, dtype=float) # share va kieu du lieu muon tao ra"
   ]
  },
  {
   "cell_type": "markdown",
   "id": "72ad542a",
   "metadata": {},
   "source": [
    "## linspace"
   ]
  },
  {
   "cell_type": "code",
   "execution_count": 31,
   "id": "b7e5c866",
   "metadata": {},
   "outputs": [
    {
     "data": {
      "text/plain": [
       "array([0.  , 0.25, 0.5 , 0.75, 1.  ])"
      ]
     },
     "execution_count": 31,
     "metadata": {},
     "output_type": "execute_result"
    }
   ],
   "source": [
    "np.linspace(0,1, 5) # diem bat dau va diem ket thuc va dc chia thanh 5 diem khoang cach giong nhau"
   ]
  },
  {
   "cell_type": "markdown",
   "id": "86fbc1a7",
   "metadata": {},
   "source": [
    "## random"
   ]
  },
  {
   "cell_type": "code",
   "execution_count": 51,
   "id": "50f420e0",
   "metadata": {},
   "outputs": [
    {
     "data": {
      "text/plain": [
       "array([[0.36549611, 0.01662797, 0.23074234, 0.7649117 ],\n",
       "       [0.94412352, 0.74999925, 0.33940382, 0.48954894],\n",
       "       [0.33898512, 0.17949026, 0.1709866 , 0.46345098],\n",
       "       [0.87457296, 0.94411975, 0.60825287, 0.59665541]])"
      ]
     },
     "execution_count": 51,
     "metadata": {},
     "output_type": "execute_result"
    }
   ],
   "source": [
    "np.random.random((4,4)) # truyen vao size cho ham random vd: 4x4 va tuong duong voi np.random.rand(4,4)"
   ]
  },
  {
   "cell_type": "code",
   "execution_count": 52,
   "id": "0ecb1f83",
   "metadata": {},
   "outputs": [
    {
     "data": {
      "text/plain": [
       "array([[0.78364425, 0.5000263 , 0.05037006, 0.69909807],\n",
       "       [0.9923964 , 0.26726254, 0.67909062, 0.86428144],\n",
       "       [0.75084425, 0.96448977, 0.55424244, 0.2123905 ],\n",
       "       [0.22244322, 0.21874937, 0.56957353, 0.45210904]])"
      ]
     },
     "execution_count": 52,
     "metadata": {},
     "output_type": "execute_result"
    }
   ],
   "source": [
    "np.random.rand(4,4)"
   ]
  },
  {
   "cell_type": "code",
   "execution_count": 38,
   "id": "5f7c1508",
   "metadata": {},
   "outputs": [
    {
     "data": {
      "text/plain": [
       "array([[0.5488135 , 0.71518937, 0.60276338, 0.54488318],\n",
       "       [0.4236548 , 0.64589411, 0.43758721, 0.891773  ],\n",
       "       [0.96366276, 0.38344152, 0.79172504, 0.52889492],\n",
       "       [0.56804456, 0.92559664, 0.07103606, 0.0871293 ]])"
      ]
     },
     "execution_count": 38,
     "metadata": {},
     "output_type": "execute_result"
    }
   ],
   "source": [
    "# Seed for reproducibility\n",
    "np.random.seed(0)\n",
    "np.random.random((4,4)) #Seed dung de tao ra ham random ngau nhien o bat ky dau deu giongs nhau "
   ]
  },
  {
   "cell_type": "code",
   "execution_count": 48,
   "id": "3be904da",
   "metadata": {},
   "outputs": [
    {
     "data": {
      "text/plain": [
       "array([[3.00007066, 3.00000105, 3.00017859],\n",
       "       [3.00001269, 3.0000402 , 3.00018832],\n",
       "       [2.99986522, 2.99987295, 3.00009694]])"
      ]
     },
     "execution_count": 48,
     "metadata": {},
     "output_type": "execute_result"
    }
   ],
   "source": [
    "# normal: randome so ngau nhien\n",
    "np.random.normal(3,0.0001, (3,3)) # 3: , 0.1 la do lech chua (3,3) = size"
   ]
  },
  {
   "cell_type": "code",
   "execution_count": 49,
   "id": "c2090ad1",
   "metadata": {},
   "outputs": [
    {
     "data": {
      "text/plain": [
       "array([[9, 2, 8, 6, 6],\n",
       "       [9, 1, 6, 8, 8],\n",
       "       [3, 2, 3, 6, 3],\n",
       "       [6, 5, 7, 0, 8]])"
      ]
     },
     "execution_count": 49,
     "metadata": {},
     "output_type": "execute_result"
    }
   ],
   "source": [
    "# randint:\n",
    "np.random.randint(0, 10, (4,5)) # so ngau hien tu 0 -> 10 "
   ]
  },
  {
   "cell_type": "markdown",
   "id": "768ecc28",
   "metadata": {},
   "source": [
    "## Array Indexing and Slicing\n",
    "### Indexing"
   ]
  },
  {
   "cell_type": "markdown",
   "id": "fd3dd5f1",
   "metadata": {},
   "source": [
    "#### One-dimensional subarray"
   ]
  },
  {
   "cell_type": "code",
   "execution_count": 53,
   "id": "56cf68bc",
   "metadata": {},
   "outputs": [],
   "source": [
    "# tao mot array tu 0-> 20 voi size = 6\n",
    "x1 = np.random.randint(20, size = 6)"
   ]
  },
  {
   "cell_type": "code",
   "execution_count": 54,
   "id": "ccbfe3a2",
   "metadata": {},
   "outputs": [
    {
     "data": {
      "text/plain": [
       "array([15,  7,  7, 11, 17,  6])"
      ]
     },
     "execution_count": 54,
     "metadata": {},
     "output_type": "execute_result"
    }
   ],
   "source": [
    "x1"
   ]
  },
  {
   "cell_type": "code",
   "execution_count": 57,
   "id": "235b414d",
   "metadata": {},
   "outputs": [
    {
     "data": {
      "text/plain": [
       "(17, 15, 6)"
      ]
     },
     "execution_count": 57,
     "metadata": {},
     "output_type": "execute_result"
    }
   ],
   "source": [
    "# tiep can vi tri thu 4\n",
    "x1[4], x1[0], x1[-1] # -1 la vi tri cuoi cung"
   ]
  },
  {
   "cell_type": "markdown",
   "id": "19ebf4e4",
   "metadata": {},
   "source": [
    "#### Muti-dimensional array"
   ]
  },
  {
   "cell_type": "code",
   "execution_count": 59,
   "id": "8eb8d1a6",
   "metadata": {},
   "outputs": [],
   "source": [
    "x2 = np.random.randint(20, size = (3,4))"
   ]
  },
  {
   "cell_type": "code",
   "execution_count": 60,
   "id": "ead23997",
   "metadata": {},
   "outputs": [
    {
     "data": {
      "text/plain": [
       "array([[ 7, 18, 11, 19],\n",
       "       [17,  9, 14,  9],\n",
       "       [18,  0,  9, 11]])"
      ]
     },
     "execution_count": 60,
     "metadata": {},
     "output_type": "execute_result"
    }
   ],
   "source": [
    "x2"
   ]
  },
  {
   "cell_type": "code",
   "execution_count": 61,
   "id": "1c1ac3cc",
   "metadata": {},
   "outputs": [
    {
     "data": {
      "text/plain": [
       "14"
      ]
     },
     "execution_count": 61,
     "metadata": {},
     "output_type": "execute_result"
    }
   ],
   "source": [
    "x2[1,2] # index cot 1 hang 2"
   ]
  },
  {
   "cell_type": "code",
   "execution_count": 63,
   "id": "fce81eef",
   "metadata": {},
   "outputs": [],
   "source": [
    "x2[1,2] = 21 # change index cot 1 hang 2"
   ]
  },
  {
   "cell_type": "code",
   "execution_count": 64,
   "id": "90eda846",
   "metadata": {},
   "outputs": [
    {
     "data": {
      "text/plain": [
       "array([[ 7, 18, 11, 19],\n",
       "       [17,  9, 21,  9],\n",
       "       [18,  0,  9, 11]])"
      ]
     },
     "execution_count": 64,
     "metadata": {},
     "output_type": "execute_result"
    }
   ],
   "source": [
    "x2"
   ]
  },
  {
   "cell_type": "markdown",
   "id": "88a67c4d",
   "metadata": {},
   "source": [
    "### Slicing\n",
    "x[start:storp:step]"
   ]
  },
  {
   "cell_type": "code",
   "execution_count": 67,
   "id": "03a802d4",
   "metadata": {},
   "outputs": [
    {
     "data": {
      "text/plain": [
       "array([15,  7,  7, 11, 17,  6])"
      ]
     },
     "execution_count": 67,
     "metadata": {},
     "output_type": "execute_result"
    }
   ],
   "source": [
    "# khoang muon cat (diem dau, diem cuoi) vd: lay 3 gia tri dau\n",
    "x1"
   ]
  },
  {
   "cell_type": "code",
   "execution_count": 69,
   "id": "18f15905",
   "metadata": {},
   "outputs": [
    {
     "data": {
      "text/plain": [
       "array([15,  7,  7])"
      ]
     },
     "execution_count": 69,
     "metadata": {},
     "output_type": "execute_result"
    }
   ],
   "source": [
    "x1[0:3] # lay 3 gia tri dau tien"
   ]
  },
  {
   "cell_type": "code",
   "execution_count": 73,
   "id": "24152d15",
   "metadata": {},
   "outputs": [
    {
     "data": {
      "text/plain": [
       "array([ 7, 11])"
      ]
     },
     "execution_count": 73,
     "metadata": {},
     "output_type": "execute_result"
    }
   ],
   "source": [
    "x1[2: 4]"
   ]
  },
  {
   "cell_type": "code",
   "execution_count": 74,
   "id": "70e600d9",
   "metadata": {},
   "outputs": [
    {
     "data": {
      "text/plain": [
       "array([15,  7, 17])"
      ]
     },
     "execution_count": 74,
     "metadata": {},
     "output_type": "execute_result"
    }
   ],
   "source": [
    "x1[::2]# lay theo cac step vd cach nhau 2"
   ]
  },
  {
   "cell_type": "code",
   "execution_count": null,
   "id": "19b0c67e",
   "metadata": {},
   "outputs": [],
   "source": []
  }
 ],
 "metadata": {
  "kernelspec": {
   "display_name": "Python 3 (ipykernel)",
   "language": "python",
   "name": "python3"
  },
  "language_info": {
   "codemirror_mode": {
    "name": "ipython",
    "version": 3
   },
   "file_extension": ".py",
   "mimetype": "text/x-python",
   "name": "python",
   "nbconvert_exporter": "python",
   "pygments_lexer": "ipython3",
   "version": "3.9.7"
  }
 },
 "nbformat": 4,
 "nbformat_minor": 5
}
