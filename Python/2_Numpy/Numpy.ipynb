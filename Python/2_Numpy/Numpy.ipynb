{
 "cells": [
  {
   "cell_type": "markdown",
   "id": "05e94af7",
   "metadata": {},
   "source": [
    "# Numpy"
   ]
  },
  {
   "cell_type": "markdown",
   "id": "34c5dd01",
   "metadata": {},
   "source": [
    "###### Ref: https://numpy.org/doc/stable/user/quickstart.html"
   ]
  },
  {
   "cell_type": "code",
   "execution_count": 1,
   "id": "537f985e",
   "metadata": {},
   "outputs": [],
   "source": [
    "import numpy as np"
   ]
  },
  {
   "cell_type": "markdown",
   "id": "c99db53e",
   "metadata": {},
   "source": [
    "## creating Numpy array form python lists"
   ]
  },
  {
   "cell_type": "code",
   "execution_count": 2,
   "id": "efc892db",
   "metadata": {},
   "outputs": [
    {
     "data": {
      "text/plain": [
       "array([1, 2, 3, 4, 5])"
      ]
     },
     "execution_count": 2,
     "metadata": {},
     "output_type": "execute_result"
    }
   ],
   "source": [
    "np.array([1,2,3,4,5])"
   ]
  },
  {
   "cell_type": "code",
   "execution_count": 3,
   "id": "d192a69d",
   "metadata": {},
   "outputs": [
    {
     "data": {
      "text/plain": [
       "array([3.14, 2.  , 3.  , 4.  , 5.  ])"
      ]
     },
     "execution_count": 3,
     "metadata": {},
     "output_type": "execute_result"
    }
   ],
   "source": [
    "np.array([3.14, 2,3,4,5]) # np tu conveert ve sang dang thap nhat int -> float"
   ]
  },
  {
   "cell_type": "code",
   "execution_count": 4,
   "id": "fe9877c4",
   "metadata": {},
   "outputs": [
    {
     "data": {
      "text/plain": [
       "array([1., 2., 3., 4.], dtype=float32)"
      ]
     },
     "execution_count": 4,
     "metadata": {},
     "output_type": "execute_result"
    }
   ],
   "source": [
    "# Su dung dtype de dinh dang kieu du lieu\n",
    "np.array([1,2,3,4], dtype='float32')"
   ]
  },
  {
   "cell_type": "code",
   "execution_count": 5,
   "id": "fcdffd35",
   "metadata": {},
   "outputs": [],
   "source": [
    "a1 = np.array([1,2,3,4])"
   ]
  },
  {
   "cell_type": "code",
   "execution_count": 6,
   "id": "85a1bd9e",
   "metadata": {},
   "outputs": [
    {
     "data": {
      "text/plain": [
       "numpy.ndarray"
      ]
     },
     "execution_count": 6,
     "metadata": {},
     "output_type": "execute_result"
    }
   ],
   "source": [
    "type(a1)"
   ]
  },
  {
   "cell_type": "code",
   "execution_count": 7,
   "id": "15e9f652",
   "metadata": {},
   "outputs": [
    {
     "data": {
      "text/plain": [
       "numpy.ndarray"
      ]
     },
     "execution_count": 7,
     "metadata": {},
     "output_type": "execute_result"
    }
   ],
   "source": [
    "a2 = np.array([[1,2,3],[4,5,6]])\n",
    "type(a2)"
   ]
  },
  {
   "cell_type": "code",
   "execution_count": 8,
   "id": "8da8139a",
   "metadata": {},
   "outputs": [
    {
     "data": {
      "text/plain": [
       "(2, 3)"
      ]
     },
     "execution_count": 8,
     "metadata": {},
     "output_type": "execute_result"
    }
   ],
   "source": [
    "a2.shape"
   ]
  },
  {
   "cell_type": "code",
   "execution_count": 9,
   "id": "592a19e5",
   "metadata": {},
   "outputs": [
    {
     "data": {
      "text/plain": [
       "2"
      ]
     },
     "execution_count": 9,
     "metadata": {},
     "output_type": "execute_result"
    }
   ],
   "source": [
    "a2.ndim # so chieu cua mang"
   ]
  },
  {
   "cell_type": "code",
   "execution_count": 10,
   "id": "4ceb557b",
   "metadata": {},
   "outputs": [
    {
     "data": {
      "text/plain": [
       "1"
      ]
     },
     "execution_count": 10,
     "metadata": {},
     "output_type": "execute_result"
    }
   ],
   "source": [
    "a1.ndim"
   ]
  },
  {
   "cell_type": "code",
   "execution_count": 11,
   "id": "2fb5b974",
   "metadata": {},
   "outputs": [
    {
     "data": {
      "text/plain": [
       "dtype('int64')"
      ]
     },
     "execution_count": 11,
     "metadata": {},
     "output_type": "execute_result"
    }
   ],
   "source": [
    "a2.dtype"
   ]
  },
  {
   "cell_type": "code",
   "execution_count": 12,
   "id": "cf571faf",
   "metadata": {},
   "outputs": [
    {
     "data": {
      "text/plain": [
       "6"
      ]
     },
     "execution_count": 12,
     "metadata": {},
     "output_type": "execute_result"
    }
   ],
   "source": [
    "a2.size # tong so element trong a2"
   ]
  },
  {
   "cell_type": "markdown",
   "id": "9895574f",
   "metadata": {},
   "source": [
    "## Create Numpy Array form scratch\n",
    "#### Su dung san nhung ham co san trong numpy (build in)"
   ]
  },
  {
   "cell_type": "markdown",
   "id": "7873bf0c",
   "metadata": {},
   "source": [
    "### zeros, ones, full, arange, linspace"
   ]
  },
  {
   "cell_type": "markdown",
   "id": "44814ca2",
   "metadata": {},
   "source": [
    "### zeros"
   ]
  },
  {
   "cell_type": "code",
   "execution_count": 13,
   "id": "ce2a677b",
   "metadata": {},
   "outputs": [
    {
     "data": {
      "text/plain": [
       "array([[0., 0., 0., 0.],\n",
       "       [0., 0., 0., 0.]])"
      ]
     },
     "execution_count": 13,
     "metadata": {},
     "output_type": "execute_result"
    }
   ],
   "source": [
    "np.zeros([2,4]) # truyen vao hinh dang 2 hang 4 cut note: shape = (2,4) or [2,4]"
   ]
  },
  {
   "cell_type": "code",
   "execution_count": 14,
   "id": "500111b6",
   "metadata": {},
   "outputs": [
    {
     "data": {
      "text/plain": [
       "array([[0, 0, 0, 0],\n",
       "       [0, 0, 0, 0]])"
      ]
     },
     "execution_count": 14,
     "metadata": {},
     "output_type": "execute_result"
    }
   ],
   "source": [
    "np.zeros([2,4], dtype= int)  # set kieu du lieu cho bien"
   ]
  },
  {
   "cell_type": "markdown",
   "id": "919c019d",
   "metadata": {},
   "source": [
    "### ones"
   ]
  },
  {
   "cell_type": "code",
   "execution_count": 15,
   "id": "f653576a",
   "metadata": {},
   "outputs": [
    {
     "data": {
      "text/plain": [
       "array([[1., 1., 1., 1., 1.],\n",
       "       [1., 1., 1., 1., 1.],\n",
       "       [1., 1., 1., 1., 1.]])"
      ]
     },
     "execution_count": 15,
     "metadata": {},
     "output_type": "execute_result"
    }
   ],
   "source": [
    "np.ones((3,5)) # truyen vao shape mong muon vd 3 hang 5 cot"
   ]
  },
  {
   "cell_type": "code",
   "execution_count": 16,
   "id": "6e8585e0",
   "metadata": {},
   "outputs": [
    {
     "data": {
      "text/plain": [
       "array([[1., 1., 1., 1., 1., 1.],\n",
       "       [1., 1., 1., 1., 1., 1.],\n",
       "       [1., 1., 1., 1., 1., 1.],\n",
       "       [1., 1., 1., 1., 1., 1.],\n",
       "       [1., 1., 1., 1., 1., 1.],\n",
       "       [1., 1., 1., 1., 1., 1.]])"
      ]
     },
     "execution_count": 16,
     "metadata": {},
     "output_type": "execute_result"
    }
   ],
   "source": [
    "np.ones((6,6), dtype=float)# truyen vao kieu du lieu mong muon"
   ]
  },
  {
   "cell_type": "markdown",
   "id": "c2d357f7",
   "metadata": {},
   "source": [
    "### arange"
   ]
  },
  {
   "cell_type": "code",
   "execution_count": 17,
   "id": "b6b01208",
   "metadata": {},
   "outputs": [
    {
     "data": {
      "text/plain": [
       "array([ 4,  7, 10, 13, 16, 19])"
      ]
     },
     "execution_count": 17,
     "metadata": {},
     "output_type": "execute_result"
    }
   ],
   "source": [
    "np.arange(4,21, 3) # diem bat dau va diem ket thuc va khaong cach"
   ]
  },
  {
   "cell_type": "code",
   "execution_count": 18,
   "id": "30b3ec88",
   "metadata": {},
   "outputs": [
    {
     "data": {
      "text/plain": [
       "array([ 1.,  6., 11., 16.])"
      ]
     },
     "execution_count": 18,
     "metadata": {},
     "output_type": "execute_result"
    }
   ],
   "source": [
    "np.arange(1,20,5, dtype= float) # truyen vao kieu du lieu mong muon"
   ]
  },
  {
   "cell_type": "markdown",
   "id": "fa63316d",
   "metadata": {},
   "source": [
    "### full"
   ]
  },
  {
   "cell_type": "code",
   "execution_count": 19,
   "id": "5fe137ff",
   "metadata": {},
   "outputs": [
    {
     "data": {
      "text/plain": [
       "array([[21., 21., 21., 21., 21.],\n",
       "       [21., 21., 21., 21., 21.],\n",
       "       [21., 21., 21., 21., 21.]])"
      ]
     },
     "execution_count": 19,
     "metadata": {},
     "output_type": "execute_result"
    }
   ],
   "source": [
    "np.full([3,5], 21, dtype=float) # share va kieu du lieu muon tao ra"
   ]
  },
  {
   "cell_type": "markdown",
   "id": "f79713bf",
   "metadata": {},
   "source": [
    "### linspace"
   ]
  },
  {
   "cell_type": "code",
   "execution_count": 20,
   "id": "21707d92",
   "metadata": {},
   "outputs": [
    {
     "data": {
      "text/plain": [
       "array([0.  , 0.25, 0.5 , 0.75, 1.  ])"
      ]
     },
     "execution_count": 20,
     "metadata": {},
     "output_type": "execute_result"
    }
   ],
   "source": [
    "np.linspace(0,1, 5) # diem bat dau va diem ket thuc va dc chia thanh 5 diem khoang cach giong nhau"
   ]
  },
  {
   "cell_type": "markdown",
   "id": "7e43daf8",
   "metadata": {},
   "source": [
    "### random"
   ]
  },
  {
   "cell_type": "code",
   "execution_count": 21,
   "id": "08bdf8c5",
   "metadata": {},
   "outputs": [
    {
     "data": {
      "text/plain": [
       "array([[0.56708929, 0.36538169, 0.24188082, 0.82509087],\n",
       "       [0.24064101, 0.16992507, 0.16619007, 0.10210274],\n",
       "       [0.1716763 , 0.55291134, 0.46059092, 0.58719884],\n",
       "       [0.1576296 , 0.19362291, 0.76117238, 0.40353061]])"
      ]
     },
     "execution_count": 21,
     "metadata": {},
     "output_type": "execute_result"
    }
   ],
   "source": [
    "np.random.random((4,4)) # truyen vao size cho ham random vd: 4x4 va tuong duong voi np.random.rand(4,4)"
   ]
  },
  {
   "cell_type": "code",
   "execution_count": 22,
   "id": "f314e462",
   "metadata": {},
   "outputs": [
    {
     "data": {
      "text/plain": [
       "array([[0.01915078, 0.08975975, 0.88151697, 0.99872822],\n",
       "       [0.89427196, 0.33857789, 0.21082305, 0.06557367],\n",
       "       [0.12542264, 0.88939914, 0.43687584, 0.26678816],\n",
       "       [0.38813407, 0.58716869, 0.73298956, 0.38193366]])"
      ]
     },
     "execution_count": 22,
     "metadata": {},
     "output_type": "execute_result"
    }
   ],
   "source": [
    "np.random.rand(4,4)"
   ]
  },
  {
   "cell_type": "code",
   "execution_count": 23,
   "id": "0fbd842f",
   "metadata": {},
   "outputs": [
    {
     "data": {
      "text/plain": [
       "array([[0.5488135 , 0.71518937, 0.60276338, 0.54488318],\n",
       "       [0.4236548 , 0.64589411, 0.43758721, 0.891773  ],\n",
       "       [0.96366276, 0.38344152, 0.79172504, 0.52889492],\n",
       "       [0.56804456, 0.92559664, 0.07103606, 0.0871293 ]])"
      ]
     },
     "execution_count": 23,
     "metadata": {},
     "output_type": "execute_result"
    }
   ],
   "source": [
    "# Seed for reproducibility\n",
    "np.random.seed(0)\n",
    "np.random.random((4,4)) #Seed dung de tao ra ham random ngau nhien o bat ky dau deu giongs nhau "
   ]
  },
  {
   "cell_type": "code",
   "execution_count": 24,
   "id": "df5522db",
   "metadata": {},
   "outputs": [
    {
     "data": {
      "text/plain": [
       "array([[3.00004439, 3.00003337, 3.00014941],\n",
       "       [2.99997948, 3.00003131, 2.99991459],\n",
       "       [2.9997447 , 3.00006536, 3.00008644]])"
      ]
     },
     "execution_count": 24,
     "metadata": {},
     "output_type": "execute_result"
    }
   ],
   "source": [
    "# normal: randome so ngau nhien\n",
    "np.random.normal(3,0.0001, (3,3)) # 3: , 0.1 la do lech chua (3,3) = size"
   ]
  },
  {
   "cell_type": "code",
   "execution_count": 25,
   "id": "3373db9c",
   "metadata": {},
   "outputs": [
    {
     "data": {
      "text/plain": [
       "array([[7, 2, 0, 0, 4],\n",
       "       [5, 5, 6, 8, 4],\n",
       "       [1, 4, 9, 8, 1],\n",
       "       [1, 7, 9, 9, 3]])"
      ]
     },
     "execution_count": 25,
     "metadata": {},
     "output_type": "execute_result"
    }
   ],
   "source": [
    "# randint:\n",
    "np.random.randint(0, 10, (4,5)) # so ngau hien tu 0 -> 10 "
   ]
  },
  {
   "cell_type": "markdown",
   "id": "625d6404",
   "metadata": {},
   "source": [
    "## Array Indexing and Slicing\n",
    "### Indexing"
   ]
  },
  {
   "cell_type": "markdown",
   "id": "1d20d0a6",
   "metadata": {},
   "source": [
    "#### One-dimensional subarray"
   ]
  },
  {
   "cell_type": "code",
   "execution_count": 26,
   "id": "c1b0da91",
   "metadata": {},
   "outputs": [],
   "source": [
    "# tao mot array tu 0-> 20 voi size = 6\n",
    "x1 = np.random.randint(20, size = 6)"
   ]
  },
  {
   "cell_type": "code",
   "execution_count": 27,
   "id": "942ec673",
   "metadata": {},
   "outputs": [
    {
     "data": {
      "text/plain": [
       "array([ 6, 11, 14, 18,  0, 14])"
      ]
     },
     "execution_count": 27,
     "metadata": {},
     "output_type": "execute_result"
    }
   ],
   "source": [
    "x1"
   ]
  },
  {
   "cell_type": "code",
   "execution_count": 28,
   "id": "225e0f03",
   "metadata": {},
   "outputs": [
    {
     "data": {
      "text/plain": [
       "(0, 6, 14)"
      ]
     },
     "execution_count": 28,
     "metadata": {},
     "output_type": "execute_result"
    }
   ],
   "source": [
    "# tiep can vi tri thu 4\n",
    "x1[4], x1[0], x1[-1] # -1 la vi tri cuoi cung"
   ]
  },
  {
   "cell_type": "markdown",
   "id": "a189b634",
   "metadata": {},
   "source": [
    "#### Muti-dimensional array"
   ]
  },
  {
   "cell_type": "code",
   "execution_count": 29,
   "id": "53b15db1",
   "metadata": {},
   "outputs": [],
   "source": [
    "x2 = np.random.randint(20, size = (3,4))"
   ]
  },
  {
   "cell_type": "code",
   "execution_count": 30,
   "id": "b6cfdf52",
   "metadata": {},
   "outputs": [
    {
     "data": {
      "text/plain": [
       "array([[ 3, 12, 10, 11],\n",
       "       [ 4,  6,  4, 15],\n",
       "       [ 3, 12,  4,  8]])"
      ]
     },
     "execution_count": 30,
     "metadata": {},
     "output_type": "execute_result"
    }
   ],
   "source": [
    "x2"
   ]
  },
  {
   "cell_type": "code",
   "execution_count": 31,
   "id": "0140f474",
   "metadata": {},
   "outputs": [
    {
     "data": {
      "text/plain": [
       "4"
      ]
     },
     "execution_count": 31,
     "metadata": {},
     "output_type": "execute_result"
    }
   ],
   "source": [
    "x2[1,2] # index cot 1 hang 2"
   ]
  },
  {
   "cell_type": "code",
   "execution_count": 32,
   "id": "babce2f2",
   "metadata": {},
   "outputs": [],
   "source": [
    "x2[1,2] = 21 # change index cot 1 hang 2"
   ]
  },
  {
   "cell_type": "code",
   "execution_count": 33,
   "id": "bd64e17e",
   "metadata": {},
   "outputs": [
    {
     "data": {
      "text/plain": [
       "array([[ 3, 12, 10, 11],\n",
       "       [ 4,  6, 21, 15],\n",
       "       [ 3, 12,  4,  8]])"
      ]
     },
     "execution_count": 33,
     "metadata": {},
     "output_type": "execute_result"
    }
   ],
   "source": [
    "x2"
   ]
  },
  {
   "cell_type": "markdown",
   "id": "8a256dad",
   "metadata": {},
   "source": [
    "### Slicing\n",
    "x[start:storp:step]"
   ]
  },
  {
   "cell_type": "code",
   "execution_count": 34,
   "id": "c22cd750",
   "metadata": {},
   "outputs": [
    {
     "data": {
      "text/plain": [
       "array([ 6, 11, 14, 18,  0, 14])"
      ]
     },
     "execution_count": 34,
     "metadata": {},
     "output_type": "execute_result"
    }
   ],
   "source": [
    "# khoang muon cat (diem dau, diem cuoi) vd: lay 3 gia tri dau\n",
    "x1"
   ]
  },
  {
   "cell_type": "code",
   "execution_count": 35,
   "id": "b21fd88c",
   "metadata": {},
   "outputs": [
    {
     "data": {
      "text/plain": [
       "array([ 6, 11, 14])"
      ]
     },
     "execution_count": 35,
     "metadata": {},
     "output_type": "execute_result"
    }
   ],
   "source": [
    "x1[0:3] # lay 3 gia tri dau tien"
   ]
  },
  {
   "cell_type": "code",
   "execution_count": 36,
   "id": "e445db8d",
   "metadata": {},
   "outputs": [
    {
     "data": {
      "text/plain": [
       "array([14, 18])"
      ]
     },
     "execution_count": 36,
     "metadata": {},
     "output_type": "execute_result"
    }
   ],
   "source": [
    "x1[2: 4]"
   ]
  },
  {
   "cell_type": "code",
   "execution_count": 37,
   "id": "8c0f5279",
   "metadata": {},
   "outputs": [
    {
     "data": {
      "text/plain": [
       "array([ 6, 14,  0])"
      ]
     },
     "execution_count": 37,
     "metadata": {},
     "output_type": "execute_result"
    }
   ],
   "source": [
    "x1[::2]# lay theo cac step vd cach nhau 2"
   ]
  },
  {
   "cell_type": "code",
   "execution_count": null,
   "id": "51c055ed",
   "metadata": {},
   "outputs": [],
   "source": []
  }
 ],
 "metadata": {
  "kernelspec": {
   "display_name": "Python 3 (ipykernel)",
   "language": "python",
   "name": "python3"
  },
  "language_info": {
   "codemirror_mode": {
    "name": "ipython",
    "version": 3
   },
   "file_extension": ".py",
   "mimetype": "text/x-python",
   "name": "python",
   "nbconvert_exporter": "python",
   "pygments_lexer": "ipython3",
   "version": "3.9.7"
  }
 },
 "nbformat": 4,
 "nbformat_minor": 5
}
